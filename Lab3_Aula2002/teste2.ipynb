{
 "cells": [
  {
   "cell_type": "code",
   "execution_count": null,
   "id": "4583c46a",
   "metadata": {},
   "outputs": [],
   "source": [
    "import cv2"
   ]
  },
  {
   "cell_type": "code",
   "execution_count": null,
   "id": "d377ce77",
   "metadata": {},
   "outputs": [],
   "source": [
    "# Iniciando a captura de vídeo\n",
    "cap = cv2.VideoCapture(0) #webcam\n",
    "cap2 = cv2.VideoCapture(\"Lab3_Aula2002/totoro.mp4\") #video que foi salvo"
   ]
  },
  {
   "cell_type": "code",
   "execution_count": null,
   "id": "8b12827f",
   "metadata": {},
   "outputs": [],
   "source": [
    "while True:\n",
    "    # Tenta fazer a Captura do frame\n",
    "    ret, frame = cap.read()\n",
    "    ret, frame2 = cap2.read()\n",
    "\n",
    "    # verifica se o frame foi capturado corretamente\n",
    "    if not ret:\n",
    "        print(\"Erro: Não foi possível capturar o frame.\")\n",
    "        break\n",
    "    \n",
    "    # processa o frame capturado\n",
    "    normalFrame = cv2.cvtColor(frame, cv2.COLOR_BGR2RGB)\n",
    "    gray = cv2.cvtColor(frame2, cv2.COLOR_BGR2GRAY)\n",
    "    \n",
    "    # Exibe o frame processado\n",
    "    cv2.imshow('camera', frame)\n",
    "    cv2.imshow('camera_processado', normalFrame)\n",
    "    cv2.imshow('frame', frame2)\n",
    "    cv2.imshow('frame_processado', gray)\n",
    "\n",
    "    # Aguarda 1 ms e verifica se a tecla 'q' foi pressionada para sair\n",
    "    if cv2.waitKey(1) & 0xFF == ord('q'):\n",
    "        break"
   ]
  },
  {
   "cell_type": "code",
   "execution_count": null,
   "id": "e40874fa",
   "metadata": {},
   "outputs": [],
   "source": [
    "# Libera a captura e fecha todas as janelas\n",
    "cap.release()\n",
    "cv2.destroyAllWindows()"
   ]
  },
  {
   "cell_type": "code",
   "execution_count": null,
   "id": "a0dbdba2",
   "metadata": {},
   "outputs": [],
   "source": [
    "import matplotlib.pyplot as plt\n",
    "\n",
    "video_path = \"Lab3_Aula2002/video.mp4\"\n",
    "video = cv2.VideoCapture(video_path)\n",
    "\n",
    "fig, ax = plt.subplots()\n",
    "\n",
    "while video.isOpened():\n",
    "    ret, frame = video.read()\n",
    "    if not ret:\n",
    "        break\n",
    "    \n",
    "    frame = cv2.cvtColor(frame, cv2.COLOR_BGR2RGB)  # Converte para RGB\n",
    "    ax.clear()\n",
    "    ax.imshow(frame)\n",
    "    plt.pause(0.03)  # Pequena pausa para atualização\n",
    "\n",
    "\n",
    "video.release()\n",
    "plt.close()"
   ]
  },
  {
   "cell_type": "code",
   "execution_count": null,
   "id": "daa79afa",
   "metadata": {},
   "outputs": [],
   "source": []
  },
  {
   "cell_type": "code",
   "execution_count": null,
   "id": "467b1118",
   "metadata": {},
   "outputs": [],
   "source": []
  },
  {
   "cell_type": "code",
   "execution_count": null,
   "id": "e5be187f",
   "metadata": {},
   "outputs": [],
   "source": []
  },
  {
   "cell_type": "code",
   "execution_count": null,
   "id": "a3e317c6",
   "metadata": {},
   "outputs": [],
   "source": []
  }
 ],
 "metadata": {
  "jupytext": {
   "cell_metadata_filter": "-all",
   "main_language": "python",
   "notebook_metadata_filter": "-all"
  },
  "language_info": {
   "name": "python"
  }
 },
 "nbformat": 4,
 "nbformat_minor": 5
}
