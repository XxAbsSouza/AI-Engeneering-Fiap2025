{
 "cells": [
  {
   "cell_type": "code",
   "execution_count": null,
   "id": "c2b85f76",
   "metadata": {},
   "outputs": [],
   "source": [
    "import cv2"
   ]
  },
  {
   "cell_type": "markdown",
   "id": "de538a6a",
   "metadata": {},
   "source": [
    "# Iniciando a captura de vídeo\n",
    "cap = cv2.VideoCapture(0) #webcam\n",
    "cap2 = cv2.VideoCapture(\"Lab3_Aula2002/totoro.mp4\") #video que foi salvo"
   ]
  },
  {
   "cell_type": "markdown",
   "id": "b0e25fcf",
   "metadata": {},
   "source": [
    "while True:\n",
    "    # Tenta fazer a Captura do frame\n",
    "    ret, frame = cap.read()\n",
    "    ret, frame2 = cap2.read()"
   ]
  },
  {
   "cell_type": "markdown",
   "id": "134e44d5",
   "metadata": {},
   "source": [
    "    # verifica se o frame foi capturado corretamente\n",
    "    if not ret:\n",
    "        print(\"Erro: Não foi possível capturar o frame.\")\n",
    "        break"
   ]
  },
  {
   "cell_type": "markdown",
   "id": "04efa458",
   "metadata": {},
   "source": [
    "    # processa o frame capturado\n",
    "    normalFrame = cv2.cvtColor(frame, cv2.COLOR_BGR2RGB)\n",
    "    gray = cv2.cvtColor(frame2, cv2.COLOR_BGR2GRAY)"
   ]
  },
  {
   "cell_type": "markdown",
   "id": "03b162fb",
   "metadata": {},
   "source": [
    "    # Exibe o frame processado\n",
    "    cv2.imshow('camera', frame)\n",
    "    cv2.imshow('camera_processado', normalFrame)\n",
    "    cv2.imshow('frame', frame2)\n",
    "    cv2.imshow('frame_processado', gray)"
   ]
  },
  {
   "cell_type": "markdown",
   "id": "d7d84e33",
   "metadata": {},
   "source": [
    "    # Aguarda 1 ms e verifica se a tecla 'q' foi pressionada para sair\n",
    "    if cv2.waitKey(1) & 0xFF == ord('q'):\n",
    "        break"
   ]
  },
  {
   "cell_type": "markdown",
   "id": "fb94d172",
   "metadata": {},
   "source": [
    "# Libera a captura e fecha todas as janelas\n",
    "cap.release()\n",
    "cv2.destroyAllWindows()"
   ]
  },
  {
   "cell_type": "code",
   "execution_count": null,
   "id": "330a791f",
   "metadata": {},
   "outputs": [],
   "source": [
    "import matplotlib.pyplot as plt"
   ]
  },
  {
   "cell_type": "code",
   "execution_count": null,
   "id": "0c314566",
   "metadata": {},
   "outputs": [],
   "source": [
    "video_path = \"Lab3_Aula2002/video.mp4\"\n",
    "video = cv2.VideoCapture(video_path)"
   ]
  },
  {
   "cell_type": "code",
   "execution_count": null,
   "id": "6086c7c8",
   "metadata": {},
   "outputs": [],
   "source": [
    "fig, ax = plt.subplots()"
   ]
  },
  {
   "cell_type": "code",
   "execution_count": null,
   "id": "305df560",
   "metadata": {},
   "outputs": [],
   "source": [
    "while video.isOpened():\n",
    "    ret, frame = video.read()\n",
    "    if not ret:\n",
    "        break\n",
    "    \n",
    "    frame = cv2.cvtColor(frame, cv2.COLOR_BGR2RGB)  # Converte para RGB\n",
    "    ax.clear()\n",
    "    ax.imshow(frame)\n",
    "    plt.pause(0.03)  # Pequena pausa para atualização"
   ]
  },
  {
   "cell_type": "code",
   "execution_count": null,
   "id": "a19e6909",
   "metadata": {},
   "outputs": [],
   "source": [
    "video.release()\n",
    "plt.close()"
   ]
  }
 ],
 "metadata": {
  "jupytext": {
   "cell_metadata_filter": "-all",
   "main_language": "python",
   "notebook_metadata_filter": "-all"
  }
 },
 "nbformat": 4,
 "nbformat_minor": 5
}
